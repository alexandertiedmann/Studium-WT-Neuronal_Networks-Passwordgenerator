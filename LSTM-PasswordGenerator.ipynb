{
 "cells": [
  {
   "cell_type": "code",
   "execution_count": 1,
   "metadata": {},
   "outputs": [],
   "source": [
    "#Imports\n",
    "from __future__ import unicode_literals, print_function, division\n",
    "from io import open\n",
    "import wget # to download passwordlist\n",
    "import glob\n",
    "import os\n",
    "import numpy as np\n",
    "import unicodedata\n",
    "import string\n",
    "import torch\n",
    "import torch.nn as nn\n",
    "from torch.autograd import Variable"
   ]
  },
  {
   "cell_type": "markdown",
   "metadata": {},
   "source": [
    "Passwortdatei auslesen"
   ]
  },
  {
   "cell_type": "code",
   "execution_count": 2,
   "metadata": {},
   "outputs": [],
   "source": [
    "# https://stackoverflow.com/a/518232/2809427\n",
    "def unicodeToAscii(s):\n",
    "    return ''.join(\n",
    "        c for c in unicodedata.normalize('NFD', s)\n",
    "        if unicodedata.category(c) != 'Mn'\n",
    "        and c in allowed_letters\n",
    "    )\n",
    "\n",
    "def readPasswords(filename):\n",
    "    passwords = open(filename, encoding=\"utf8\").read().split(\"\\n\")\n",
    "    return [unicodeToAscii(password) for password in passwords]\n",
    "\n",
    "def charToIndex(char):\n",
    "    return allowed_letters.find(char)\n",
    "\n",
    "def passwordToTensor(name):\n",
    "    ret = torch.zeros(len(name), 1, password_len)\n",
    "    for i, char in enumerate(name):\n",
    "        ret[i][0][charToIndex(char)] = 1\n",
    "    return ret\n",
    "\n",
    "def targetToTensor(password):\n",
    "    indizes = [letters.find(password[i]) for i in range(1,len(password))]\n",
    "    indizes.append(password_len - 1)\n",
    "    return torch.LongTensor(indizes)\n",
    "                                                        \n",
    "    \n",
    "allowed_letters = string.ascii_letters + string.digits + string.punctuation\n",
    "password_len = len(allowed_letters) + 1"
   ]
  },
  {
   "cell_type": "markdown",
   "metadata": {},
   "source": [
    "Download der Passwortliste"
   ]
  },
  {
   "cell_type": "code",
   "execution_count": 3,
   "metadata": {},
   "outputs": [
    {
     "name": "stdout",
     "output_type": "stream",
     "text": [
      "passwordlist exists\n"
     ]
    }
   ],
   "source": [
    "#rockyou Liste produziert: 'utf-8' codec can't decode byte 0xf1 in position 5079963: invalid continuation byte\n",
    "#filename = 'rockyou.txt'#Vermutung: Liste ist zu lang\n",
    "filename = 'john.txt'\n",
    "\n",
    "if os.path.isfile(filename):\n",
    "    print('passwordlist exists')\n",
    "    passwords = readPasswords(filename) #Pfad noch anpassen\n",
    "else:\n",
    "    print('download passwordlist:')\n",
    "    #download list\n",
    "    wget.download('https://www.scrapmaker.com/data/wordlists/dictionaries/rockyou.txt')\n",
    "    passwords = readPasswords(filename) #Pfad noch anpassen\n",
    "\n",
    "#entfernen von leeren Zeilen\n",
    "passwords = [passw for passw in passwords if passw != '']\n",
    "for passw in passwords:\n",
    "    if len(passw)<1:\n",
    "        print('pass:-'+passw+'-')"
   ]
  },
  {
   "cell_type": "code",
   "execution_count": 4,
   "metadata": {},
   "outputs": [],
   "source": [
    "def prepareData():\n",
    "    lines = []\n",
    "    f = open(filename,encoding=\"utf-8\").read().split('\\n')\n",
    "    for line in f:\n",
    "        lines.append(line)\n",
    "        \n",
    "    return lines\n"
   ]
  },
  {
   "cell_type": "markdown",
   "metadata": {},
   "source": [
    "Deklarierung der Variablen:"
   ]
  },
  {
   "cell_type": "code",
   "execution_count": 5,
   "metadata": {},
   "outputs": [],
   "source": [
    "lstm_inputs = 10 # kann geaendert werden. 1 = 1 input pro timestep\n",
    "hidden_layers = 32\n",
    "batch_size = 10#Batch size noch berechnen\n",
    "model_output = 1\n",
    "model_layers = 2\n",
    "iterations = 10000"
   ]
  },
  {
   "cell_type": "markdown",
   "metadata": {},
   "source": [
    "LSTM-Generator:"
   ]
  },
  {
   "cell_type": "code",
   "execution_count": 6,
   "metadata": {},
   "outputs": [
    {
     "ename": "TypeError",
     "evalue": "__init__() got an unexpected keyword argument 'batch'",
     "output_type": "error",
     "traceback": [
      "\u001b[1;31m---------------------------------------------------------------------------\u001b[0m",
      "\u001b[1;31mTypeError\u001b[0m                                 Traceback (most recent call last)",
      "\u001b[1;32m<ipython-input-6-f5492eca98c4>\u001b[0m in \u001b[0;36m<module>\u001b[1;34m\u001b[0m\n\u001b[0;32m     20\u001b[0m         \u001b[1;32mreturn\u001b[0m \u001b[0my_pred\u001b[0m\u001b[1;33m.\u001b[0m\u001b[0mview\u001b[0m\u001b[1;33m(\u001b[0m\u001b[1;33m-\u001b[0m\u001b[1;36m1\u001b[0m\u001b[1;33m)\u001b[0m\u001b[1;33m\u001b[0m\u001b[1;33m\u001b[0m\u001b[0m\n\u001b[0;32m     21\u001b[0m \u001b[1;33m\u001b[0m\u001b[0m\n\u001b[1;32m---> 22\u001b[1;33m \u001b[0mmodel\u001b[0m \u001b[1;33m=\u001b[0m \u001b[0mPasswordLSTMGenerator\u001b[0m\u001b[1;33m(\u001b[0m\u001b[0mlstm_inputs\u001b[0m\u001b[1;33m,\u001b[0m \u001b[0mhidden_layers\u001b[0m\u001b[1;33m,\u001b[0m \u001b[0mbatch\u001b[0m\u001b[1;33m=\u001b[0m \u001b[0mbatch_size\u001b[0m\u001b[1;33m,\u001b[0m \u001b[0moutput\u001b[0m \u001b[1;33m=\u001b[0m \u001b[0mmodel_output\u001b[0m\u001b[1;33m,\u001b[0m \u001b[0mlayers\u001b[0m \u001b[1;33m=\u001b[0m \u001b[0mmodel_layers\u001b[0m\u001b[1;33m)\u001b[0m\u001b[1;33m\u001b[0m\u001b[1;33m\u001b[0m\u001b[0m\n\u001b[0m",
      "\u001b[1;31mTypeError\u001b[0m: __init__() got an unexpected keyword argument 'batch'"
     ]
    }
   ],
   "source": [
    "class PasswordLSTMGenerator(nn.Module):\n",
    "    def __init__(self, input_lstm, hiddens, output ):\n",
    "        super(PasswordGenerator, self).__init__()\n",
    "        self.input_len = input_lstm\n",
    "        self.hiddens = hiddens\n",
    "        self.output = output\n",
    "        \n",
    "        self.lstm()\n",
    "    \n",
    "    \n",
    "    def __init__hiddens(self):\n",
    "        hiddens = torch.zeros(self.layers, self.batch, self.hidden)\n",
    "        return hiddens, hiddens\n",
    "                                         \n",
    "                          \n",
    "    def forward_pass(self, input):\n",
    "        output_lstm, self.hiddens = self.lstm(input.view(len(input), self.batch, -1))\n",
    "        pred = self.linear(output_lstm[-1].view(self.batch,-1))\n",
    "    \n",
    "        return y_pred.view(-1)\n",
    "    \n",
    "model = PasswordLSTMGenerator(lstm_inputs, hidden_layers, batch= batch_size, output = model_output, layers = model_layers)"
   ]
  },
  {
   "cell_type": "markdown",
   "metadata": {},
   "source": [
    "LSMT-Training:"
   ]
  },
  {
   "cell_type": "code",
   "execution_count": null,
   "metadata": {},
   "outputs": [],
   "source": [
    "#Train\n",
    "history = np.zeros(iterations)\n",
    "\n",
    "for i in range(iterations):\n",
    "    model.hidden = model.init_hidden()\n",
    "    \n",
    "    pred = model"
   ]
  }
 ],
 "metadata": {
  "kernelspec": {
   "display_name": "Python 3",
   "language": "python",
   "name": "python3"
  },
  "language_info": {
   "codemirror_mode": {
    "name": "ipython",
    "version": 3
   },
   "file_extension": ".py",
   "mimetype": "text/x-python",
   "name": "python",
   "nbconvert_exporter": "python",
   "pygments_lexer": "ipython3",
   "version": "3.7.3"
  }
 },
 "nbformat": 4,
 "nbformat_minor": 2
}
