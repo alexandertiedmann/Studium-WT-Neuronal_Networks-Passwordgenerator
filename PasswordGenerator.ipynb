{
 "cells": [
  {
   "cell_type": "code",
   "execution_count": 165,
   "metadata": {},
   "outputs": [],
   "source": [
    "#Imports\n",
    "from __future__ import unicode_literals, print_function, division\n",
    "from io import open\n",
    "import wget # to download passwordlist\n",
    "import glob\n",
    "import os\n",
    "import numpy as np\n",
    "import unicodedata\n",
    "import string\n",
    "import torch\n",
    "import torch.nn as nn\n",
    "from torch.autograd import Variable"
   ]
  },
  {
   "cell_type": "markdown",
   "metadata": {},
   "source": [
    "Auslesen der Passworddatei:"
   ]
  },
  {
   "cell_type": "code",
   "execution_count": 166,
   "metadata": {},
   "outputs": [],
   "source": [
    "# https://stackoverflow.com/a/518232/2809427\n",
    "def unicodeToAscii(s):\n",
    "    return ''.join(\n",
    "        c for c in unicodedata.normalize('NFD', s)\n",
    "        if unicodedata.category(c) != 'Mn'\n",
    "        and c in allowed_letters\n",
    "    )\n",
    "\n",
    "def readPasswords(filename):\n",
    "    passwords = open(filename, encoding=\"utf8\").read().split(\"\\n\")\n",
    "    return [unicodeToAscii(password) for password in passwords]\n",
    "\n",
    "def charToIndex(char):\n",
    "    return allowed_letters.find(char)\n",
    "\n",
    "def passwordToTensor(name):\n",
    "    ret = torch.zeros(len(name), 1, password_len)\n",
    "    for i, char in enumerate(name):\n",
    "        ret[i][0][charToIndex(char)] = 1\n",
    "    return ret\n",
    "\n",
    "def targetToTensor(password):\n",
    "    indizes = [letters.find(password[i]) for i in range(1,len(password))]\n",
    "    indizes.append(password_len - 1)\n",
    "    return torch.LongTensor(indizes)\n",
    "                                                        \n",
    "    \n",
    "allowed_letters = string.ascii_letters + string.digits + string.punctuation\n",
    "password_len = len(allowed_letters) + 1"
   ]
  },
  {
   "cell_type": "markdown",
   "metadata": {},
   "source": [
    "Download der Passwortliste"
   ]
  },
  {
   "cell_type": "code",
   "execution_count": 167,
   "metadata": {},
   "outputs": [
    {
     "name": "stdout",
     "output_type": "stream",
     "text": [
      "passwordlist exists\n"
     ]
    }
   ],
   "source": [
    "#rockyou Liste produziert: 'utf-8' codec can't decode byte 0xf1 in position 5079963: invalid continuation byte\n",
    "#filename = 'rockyou.txt'#Vermutung: Liste ist zu lang\n",
    "filename = 'john.txt'\n",
    "\n",
    "if os.path.isfile(filename):\n",
    "    print('passwordlist exists')\n",
    "    passwords = readPasswords(filename) #Pfad noch anpassen\n",
    "else:\n",
    "    print('download passwordlist:')\n",
    "    #download list\n",
    "    wget.download('https://www.scrapmaker.com/data/wordlists/dictionaries/rockyou.txt')\n",
    "    passwords = readPasswords(filename) #Pfad noch anpassen"
   ]
  },
  {
   "cell_type": "markdown",
   "metadata": {},
   "source": [
    "Generatorklasse:"
   ]
  },
  {
   "cell_type": "code",
   "execution_count": 168,
   "metadata": {},
   "outputs": [],
   "source": [
    "#https://pytorch.org/tutorials/intermediate/char_rnn_classification_tutorial.html\n",
    "class PasswordGenerator(nn.Module):\n",
    "    def __init__(self, input, hidden, output):\n",
    "        super(PasswordGenerator, self).__init__()\n",
    "        self.hidden = hidden\n",
    "        self.input2hidden = nn.Linear(input + hidden, hidden)\n",
    "        self.input2output = nn.Linear(input + output, output)\n",
    "        self.output2output = nn.Linear(hidden +  output, output)\n",
    "        self.dropout = nn.Dropout(0.1)\n",
    "        self.softmax = nn.LogSoftmax(dim=1)\n",
    "        \n",
    "        \n",
    "    def forward(self, input, hidden):\n",
    "        combined_input = torch.cat((input, hidden), dim=1)\n",
    "        hidden = self.input2hidden(combined_input)\n",
    "        output = self.input2output(combined_input)\n",
    "        combined_output = torch.cat((hidden, output), dim=1)\n",
    "        output = self. output2output(combined_output)\n",
    "        output = self.dropout(output)\n",
    "        output = self.softmax(output)\n",
    "        return hidden, output\n",
    "\n",
    "    def initHidden(self):\n",
    "        return Variable(torch.zeros(1, self.hidden))"
   ]
  },
  {
   "cell_type": "markdown",
   "metadata": {},
   "source": [
    "Training:"
   ]
  },
  {
   "cell_type": "code",
   "execution_count": 169,
   "metadata": {},
   "outputs": [
    {
     "ename": "AttributeError",
     "evalue": "'int' object has no attribute 'backward'",
     "output_type": "error",
     "traceback": [
      "\u001b[1;31m---------------------------------------------------------------------------\u001b[0m",
      "\u001b[1;31mAttributeError\u001b[0m                            Traceback (most recent call last)",
      "\u001b[1;32m<ipython-input-169-8eb0d0be7e9a>\u001b[0m in \u001b[0;36m<module>\u001b[1;34m\u001b[0m\n\u001b[0;32m     30\u001b[0m         \u001b[0minput\u001b[0m \u001b[1;33m=\u001b[0m \u001b[0mVariable\u001b[0m\u001b[1;33m(\u001b[0m\u001b[0mpasswordToTensor\u001b[0m\u001b[1;33m(\u001b[0m\u001b[0mpassword\u001b[0m\u001b[1;33m)\u001b[0m\u001b[1;33m)\u001b[0m\u001b[1;33m\u001b[0m\u001b[1;33m\u001b[0m\u001b[0m\n\u001b[0;32m     31\u001b[0m         \u001b[0mtarget\u001b[0m \u001b[1;33m=\u001b[0m \u001b[0mVariable\u001b[0m\u001b[1;33m(\u001b[0m\u001b[0mpasswordToTensor\u001b[0m\u001b[1;33m(\u001b[0m\u001b[0mpassword\u001b[0m\u001b[1;33m)\u001b[0m\u001b[1;33m)\u001b[0m\u001b[1;33m\u001b[0m\u001b[1;33m\u001b[0m\u001b[0m\n\u001b[1;32m---> 32\u001b[1;33m         \u001b[0moutput\u001b[0m\u001b[1;33m,\u001b[0m \u001b[0mloss\u001b[0m \u001b[1;33m=\u001b[0m \u001b[0mtrainPasswords\u001b[0m\u001b[1;33m(\u001b[0m\u001b[0minput\u001b[0m\u001b[1;33m,\u001b[0m \u001b[0mtarget\u001b[0m\u001b[1;33m)\u001b[0m\u001b[1;33m\u001b[0m\u001b[1;33m\u001b[0m\u001b[0m\n\u001b[0m\u001b[0;32m     33\u001b[0m         \u001b[0mloss_sum\u001b[0m \u001b[1;33m+=\u001b[0m \u001b[0mloss\u001b[0m\u001b[1;33m.\u001b[0m\u001b[0mdata\u001b[0m\u001b[1;33m/\u001b[0m\u001b[0minput\u001b[0m\u001b[1;33m.\u001b[0m\u001b[0msize\u001b[0m\u001b[1;33m(\u001b[0m\u001b[1;33m)\u001b[0m\u001b[1;33m[\u001b[0m\u001b[1;36m0\u001b[0m\u001b[1;33m]\u001b[0m\u001b[1;33m\u001b[0m\u001b[1;33m\u001b[0m\u001b[0m\n\u001b[0;32m     34\u001b[0m \u001b[1;33m\u001b[0m\u001b[0m\n",
      "\u001b[1;32m<ipython-input-169-8eb0d0be7e9a>\u001b[0m in \u001b[0;36mtrainPasswords\u001b[1;34m(input, target)\u001b[0m\n\u001b[0;32m     13\u001b[0m         \u001b[0mloss\u001b[0m \u001b[1;33m+=\u001b[0m \u001b[0mcriterion\u001b[0m\u001b[1;33m(\u001b[0m\u001b[0moutput\u001b[0m\u001b[1;33m.\u001b[0m\u001b[0mfloat\u001b[0m\u001b[1;33m(\u001b[0m\u001b[1;33m)\u001b[0m\u001b[1;33m,\u001b[0m \u001b[0mtarget\u001b[0m\u001b[1;33m[\u001b[0m\u001b[0mi\u001b[0m\u001b[1;33m]\u001b[0m\u001b[1;33m.\u001b[0m\u001b[0mfloat\u001b[0m\u001b[1;33m(\u001b[0m\u001b[1;33m)\u001b[0m\u001b[1;33m)\u001b[0m \u001b[1;31m# Compute the loss\u001b[0m\u001b[1;33m\u001b[0m\u001b[1;33m\u001b[0m\u001b[0m\n\u001b[0;32m     14\u001b[0m     \u001b[1;31m#print(loss)\u001b[0m\u001b[1;33m\u001b[0m\u001b[1;33m\u001b[0m\u001b[1;33m\u001b[0m\u001b[0m\n\u001b[1;32m---> 15\u001b[1;33m     \u001b[0mloss\u001b[0m\u001b[1;33m.\u001b[0m\u001b[0mbackward\u001b[0m\u001b[1;33m(\u001b[0m\u001b[1;33m)\u001b[0m\u001b[1;33m\u001b[0m\u001b[1;33m\u001b[0m\u001b[0m\n\u001b[0m\u001b[0;32m     16\u001b[0m     \u001b[1;32mfor\u001b[0m \u001b[0mp\u001b[0m \u001b[1;32min\u001b[0m \u001b[0mmodel\u001b[0m\u001b[1;33m.\u001b[0m\u001b[0mparameters\u001b[0m\u001b[1;33m(\u001b[0m\u001b[1;33m)\u001b[0m\u001b[1;33m:\u001b[0m\u001b[1;33m\u001b[0m\u001b[1;33m\u001b[0m\u001b[0m\n\u001b[0;32m     17\u001b[0m         \u001b[0mp\u001b[0m\u001b[1;33m.\u001b[0m\u001b[0mdata\u001b[0m \u001b[1;33m=\u001b[0m \u001b[0mp\u001b[0m\u001b[1;33m.\u001b[0m\u001b[0mdata\u001b[0m\u001b[1;33m.\u001b[0m\u001b[0madd\u001b[0m\u001b[1;33m(\u001b[0m\u001b[1;33m-\u001b[0m\u001b[0mlearning_rate\u001b[0m\u001b[1;33m,\u001b[0m \u001b[0mp\u001b[0m\u001b[1;33m.\u001b[0m\u001b[0mgrad\u001b[0m\u001b[1;33m.\u001b[0m\u001b[0mdata\u001b[0m\u001b[1;33m)\u001b[0m\u001b[1;33m\u001b[0m\u001b[1;33m\u001b[0m\u001b[0m\n",
      "\u001b[1;31mAttributeError\u001b[0m: 'int' object has no attribute 'backward'"
     ]
    }
   ],
   "source": [
    "model = PasswordGenerator(len(allowed_letters)+1, len(allowed_letters)+1, len(allowed_letters)+1)\n",
    "\n",
    "#Loss Functions: nn.BCEWithLogitsLoss() oder nn.CrossEntropyLoss() oder nn.NLLLoss() oder nn.MSELoss()\n",
    "criterion = nn.BCEWithLogitsLoss() #define Loss Function\n",
    "learning_rate = 0.001\n",
    "\n",
    "def trainPasswords(input, target):\n",
    "    hidden = model.initHidden()\n",
    "    model.zero_grad() # zeroes the gradient buffers of all parameters\n",
    "    loss = 0\n",
    "    for i in range(input.size()[0]):\n",
    "        hidden, output = model(input[i], hidden)\n",
    "        loss += criterion(output.float(), target[i].float()) # Compute the loss\n",
    "    #print(loss)\n",
    "    loss.backward()\n",
    "    for p in model.parameters():\n",
    "        p.data = p.data.add(-learning_rate, p.grad.data)\n",
    "        \n",
    "    return output, loss\n",
    "\n",
    "\n",
    "\n",
    "loss_sum = 0\n",
    "plots = []\n",
    "\n",
    "for i in range(1, 2):\n",
    "    for j in range(len(passwords)):\n",
    "        password = passwords[j]\n",
    "        #print(password)\n",
    "        input = Variable(passwordToTensor(password))\n",
    "        target = Variable(passwordToTensor(password))\n",
    "        output, loss = trainPasswords(input, target)\n",
    "        loss_sum += loss.data/input.size()[0]\n",
    "        \n",
    "\n",
    "\n",
    "print(\"SAMPLE: \", sample())                                      "
   ]
  },
  {
   "cell_type": "code",
   "execution_count": null,
   "metadata": {},
   "outputs": [],
   "source": [
    "def prepareData():\n",
    "    lines = []\n",
    "    f = open(filename,encoding=\"utf-8\").read().split('\\n')\n",
    "    for line in f:\n",
    "        lines.append(line)\n",
    "        \n",
    "    return lines\n",
    "\n",
    "\n",
    "    \n",
    "#prepareData()\n"
   ]
  },
  {
   "cell_type": "markdown",
   "metadata": {},
   "source": [
    "Mit LSTM:"
   ]
  },
  {
   "cell_type": "markdown",
   "metadata": {},
   "source": [
    "Deklarierung der Variablen:"
   ]
  },
  {
   "cell_type": "code",
   "execution_count": null,
   "metadata": {},
   "outputs": [],
   "source": [
    "lstm_inputs = 10 # kann geaendert werden. 1 = 1 input pro timestep\n",
    "hidden_layers = 32\n",
    "batch_size = 10#Batch size noch berechnen\n",
    "model_output = 1\n",
    "model_layers = 2\n",
    "iterations = 10000"
   ]
  },
  {
   "cell_type": "markdown",
   "metadata": {},
   "source": [
    "LSTM-Generator:"
   ]
  },
  {
   "cell_type": "code",
   "execution_count": null,
   "metadata": {},
   "outputs": [],
   "source": [
    "class PasswordLSTMGenerator(nn.Module):\n",
    "    def __init__(self, input_lstm, hiddens, output ):\n",
    "        super(PasswordGenerator, self).__init__()\n",
    "        self.input_len = input_lstm\n",
    "        self.hiddens = hiddens\n",
    "        self.output = output\n",
    "        \n",
    "        self.lstm()\n",
    "    \n",
    "    \n",
    "    def __init__hiddens(self):\n",
    "        hiddens = torch.zeros(self.layers, self.batch, self.hidden\n",
    "        return (hiddens, hiddens)\n",
    "                                         \n",
    "                          \n",
    "    def forward_pass(self, input):\n",
    "        output_lstm, self.hiddens = self.lstm(input.view(len(input), self.batch, -1))\n",
    "        pred = self.linear(output_lstm[-1].view(self.batch,-1))\n",
    "    \n",
    "        return y_pred.view(-1)\n",
    "    \n",
    "    model = LSTM(lstm_inputs, hidden_layers, batch= batch_size, output = model_output, layers = model_layers)"
   ]
  },
  {
   "cell_type": "markdown",
   "metadata": {},
   "source": [
    "LSMT-Training:"
   ]
  },
  {
   "cell_type": "code",
   "execution_count": null,
   "metadata": {},
   "outputs": [],
   "source": [
    "#Train\n",
    "history = np.zeros(iterations)\n",
    "\n",
    "for i in range(iterations):\n",
    "    model.hidden = model.init_hidden()\n",
    "    \n",
    "    pred = model"
   ]
  }
 ],
 "metadata": {
  "kernelspec": {
   "display_name": "Python 3",
   "language": "python",
   "name": "python3"
  },
  "language_info": {
   "codemirror_mode": {
    "name": "ipython",
    "version": 3
   },
   "file_extension": ".py",
   "mimetype": "text/x-python",
   "name": "python",
   "nbconvert_exporter": "python",
   "pygments_lexer": "ipython3",
   "version": "3.7.3"
  }
 },
 "nbformat": 4,
 "nbformat_minor": 2
}
