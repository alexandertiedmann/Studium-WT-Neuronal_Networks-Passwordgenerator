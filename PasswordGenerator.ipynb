{
 "cells": [
  {
   "cell_type": "markdown",
   "metadata": {},
   "source": [
    "# Passwort Generator\n",
    "Das Projekt hat sich die Erstellung eines Passwort-Generators als Ziel gesetzt. Dabei sollen die zu erstellten Passwörter möglichst denen eines Menschen ähneln. \n",
    "Zur Realisierung wurde die RNN-Architektur verwendet. Diese Recurrent Neural Networks ermöglichen es, Voraussagen mittels eines Kontext zu treffen, der durch frühere Inputs entstanden ist. Das Netzwerk verfügt sozusagen über ein Gedächtnis. In der Umsetzung geschieht dies durch die Kombination von Hidden-Layern aus der vorherigen Sequenz mit den Hidden-Layern aus der aktuellen Sequenz. Die vorherigen Hidden-Layer haben damit Einfluß auf den Output der nächsten Sequenz. Dieser Algorithmus wird in einer Schleife abgebildet, bis sämtliche Inputs verarbeitet wurden und der Kontext ersichtlich ist.\n",
    "Klarer wird dies mit den nachfolgenden Formeln, mit denen das Netzwerk trainiert wird:\n",
    "Quelle [2]\n",
    "\\begin{align}\n",
    "\\ h_t  = f(W^{hh}h_t-1 + W^{hx} + x_t \\\\\n",
    "\\ y_t  = softmax(W^Sh_t) \\\\\n",
    "\\ J^t(\\theta)  =\\sum_{i=1}^{[V]} (y_{ti}\\log(y_{ti}))\n",
    "\\end{align}\n",
    "\n",
    "Die erste Formel ist dafür da, sich an die Hidden-Layer des vorherigen Durchlaufs zu \"erinnern\". Dabei wird durch h-1 auf den vorherigen Hidden-Layer zugegriffen. Dies wird kombiniert mit dem aktuellen x, anschließend eine Akivierungsfunktion durchgeführt, am gebräuchlisten sind hierbei der Tangens hyperbolicus oder die Sigmoid-Funktion.\n",
    "Die zweite Formel kümmert sich um die Voraussage des nächsten Ergebnisses in Form von einer Wahrscheinlichkeitsverteilung. \n",
    "Zum Schluss wird in der dritten Formel mittels der Cross-Entropy-Loss-Funktion der Fehler zwischen dem Input und dem Output berechnet.\n",
    "\n"
   ]
  },
  {
   "cell_type": "code",
   "execution_count": 1,
   "metadata": {},
   "outputs": [],
   "source": [
    "#Imports\n",
    "from io import open #read Passwordlists\n",
    "import wget # to download passwordlist\n",
    "import os #check if file exists\n",
    "import random # pick random passwords from lists\n",
    "import unicodedata # convert passwords to unicode\n",
    "import string # pick chars\n",
    "import matplotlib.pyplot as plt # plot loss\n",
    "#Pytorch:\n",
    "import torch\n",
    "import torch.nn as nn"
   ]
  },
  {
   "cell_type": "markdown",
   "metadata": {},
   "source": [
    "## Auslesen der Passworddatei:\n",
    "\n",
    "Beim Einlesen der Daten haben wir uns an das Tutorial von Pytorch im Kontext mit RNNs gehalten. Um die Strings verarbeiten zu können, haben wir die Methode aus dem Tutorial übernommen, die die Zeichen in Ascii-Code umwandelt, um eine numerische Darstellung der Passwörter zu erhalten. Weiterhin erfolgt eine Umwandlung zu Tensoren durch One-Hot-Encoding sowohl für die Passwörter als auch für die Targets, damit die Backpropagation angewendet werden kann, um den Loss zu berechnen.\n",
    "\n",
    "Der Länge der Passwortliste wird noch um eine weitere Stelle erweitert, um einen EOS-Marker (End of sentence) hinzuzufügen.\n",
    "Wie eingangs erwähnt, werden beim Training sowohl der vorherige als auch der aktuelle Hidden Layer berücksichtigt, eine Verarbeitung findet also in Tupeln statt: \n",
    "Beispiel \"A1B2\":\n",
    "Schritt 1:(A,1)\n",
    "Schritt 2:(1,B)\n",
    "Schritt 3:(B,2)\n",
    "Schritt 4:(2, EOS)\n",
    "Mit diesem Marker ist dem Netzwerk bekannt, wann das Ende des Passworts erreicht ist."
   ]
  },
  {
   "cell_type": "code",
   "execution_count": 2,
   "metadata": {},
   "outputs": [],
   "source": [
    "# https://stackoverflow.com/a/518232/2809427\n",
    "def unicodeToAscii(s):\n",
    "    return ''.join(\n",
    "        c for c in unicodedata.normalize('NFD', s)\n",
    "        if unicodedata.category(c) != 'Mn'\n",
    "        and c in letters\n",
    "    )\n",
    "# Auslesen der Passwortdatei\n",
    "def readPasswords(filename):\n",
    "    passwords = []\n",
    "    with open(filename, 'r', encoding=\"utf8\", errors='ignore') as f:\n",
    "        for line in f:\n",
    "            if len(line) > 1:\n",
    "                passwords.append(line)\n",
    "    passw = [unicodeToAscii(password) for password in passwords]\n",
    "    return passw\n",
    "\n",
    "def convertPasswortToTensor(pw):\n",
    "    tensor = torch.zeros(len(pw), 1, len_letters)\n",
    "    for li in range(len(pw)):\n",
    "        letter = pw[li]\n",
    "        tensor[li][0][letters.find(letter)] = 1\n",
    "    if use_cuda:\n",
    "        tensor = tensor.cuda()\n",
    "    return tensor\n",
    "\n",
    "def convertTargetToTensor(password):\n",
    "    indizes = [letters.find(password[i]) for i in range(1,len(password))]\n",
    "    indizes.append(len_letters - 1) #EOS - Marker\n",
    "    indizes = torch.LongTensor(indizes)\n",
    "    if use_cuda:\n",
    "        indizes = indizes.cuda()\n",
    "    return indizes\n",
    "\n",
    "\n",
    "letters = string.ascii_letters + string.digits + string.punctuation\n",
    "len_letters = len(letters) + 1 # EOS - Marker"
   ]
  },
  {
   "cell_type": "markdown",
   "metadata": {},
   "source": [
    "## Einlesen der Passwortlisten\n",
    "\n",
    "Um unser Projekt möglichst leicht reproduzierbar zu machen, haben wir eine Funktion eingebaut, die automatisch Passwortlisten runterlädt, falls diese noch nicht vorhanden sind. So ist gewährleistet, dass Interessenten, die selbst das Netzwerk trainieren möchten, nicht erst umständlich Passwortlisten runterladen müssen. Die Passwortlisten wurden vorher durch ein Skript von Passwörtern gereinigt, die Zeichen enthielten, die nicht UTF-8 -kompatibel waren, da diese Passwörter beim Einlesen Fehler erzeugt haben. Zusammen kommen wir auf ungefähr 83 Millionen Passwörter, die wir für das Training des Netzwerks verwenden könnten."
   ]
  },
  {
   "cell_type": "code",
   "execution_count": 3,
   "metadata": {},
   "outputs": [
    {
     "name": "stdout",
     "output_type": "stream",
     "text": [
      "successful read rockyou.txt\n",
      "total passswords in list:  14344384\n",
      "successful read thelist.txt\n",
      "total passswords in list:  32310169\n"
     ]
    }
   ],
   "source": [
    "urls = ['https://www.scrapmaker.com/data/wordlists/dictionaries/rockyou.txt',\n",
    "        'https://www.scrapmaker.com/download/data/wordlists/passwords/thelist.txt']\n",
    "\n",
    "filelist = []\n",
    "passwords = []\n",
    "\n",
    "# exist files\n",
    "dirs = os.listdir()\n",
    "for file in dirs:\n",
    "    if file.endswith(\".txt\"):\n",
    "        filelist.append(file)\n",
    "\n",
    "for url in urls:\n",
    "    file = url.split(\"/\")[-1]\n",
    "    #download files if not exists\n",
    "    if file not in filelist:\n",
    "        wget.download(url)\n",
    "        print('\\nsuccessful downloaded ', url)\n",
    "    #read file and append to passwordlist\n",
    "    passwords += readPasswords(file)\n",
    "    print('successful read', file)\n",
    "    print('total passswords in list: ', len(passwords))\n",
    "\n",
    "#entfernen von leeren Zeilen\n",
    "passwords = [passw for passw in passwords if passw != '']"
   ]
  },
  {
   "cell_type": "markdown",
   "metadata": {},
   "source": [
    "### Aktivierungsfunktionen\n",
    "Die hier aufgeführten Aktivierungsfunktionen werden mit dem init des Models erzeugt und können beliebig im Forward-Path verwendet werden.\n",
    "- nn.LogSoftmax() - \n",
    "- nn.LeakyReLU() - \n",
    "- nn.LogSigmoid() -\n",
    "- nn.Tanh() - \n",
    "\n",
    "## Generatorklasse:\n",
    "\n",
    "In der Generatorklasse werden die grundlegenden Funktionen und Variablen festgelegt, mit denen das RNN initialisert und ausgeführt werden kann. Der Aufbau ist auch hier stark an die Vorlage aus dem Pytorch-Grundlage angelehnt, da diese leicht verständlich und dem theoretischen Prinzip eines RNN am ehesten entsprach. Allerdings haben wir, wie bereits in unserem Exposé beschrieben, andere Aktivierungsfunktionen eingefügt, die beliebig ausgetauscht werden können, um die, je nach Aktivierungsfunktion, entstandenen Ergebnisse vergleichen zu können. Auf diesem Wege können die Auswirkungen der verschiedenen Aktivierungsfunktionen besser begutachtet werden. Auch haben wir uns an den Vorlesungen orientiert und ein Dropout eingefügt, welcher besagt, wie hoch der Prozentsatz der inaktiven Neuronen pro Durchlauf sein soll. Auch hier bietet sich ein Verändern des Parameters an, um die Auswirkungen an den erstellten Passwörtern des Neuronalen Netzes zu beobachten."
   ]
  },
  {
   "cell_type": "code",
   "execution_count": 4,
   "metadata": {},
   "outputs": [],
   "source": [
    "#https://pytorch.org/tutorials/intermediate/char_rnn_classification_tutorial.html\n",
    "class PasswordGenerator(nn.Module):\n",
    "    def __init__(self, input_size, hidden_size, output_size):\n",
    "        super(PasswordGenerator, self).__init__()\n",
    "        self.hidden = hidden_size\n",
    "        self.input2hidden = nn.Linear(input_size + hidden_size, hidden_size, bias=True)\n",
    "        self.input2output = nn.Linear(input_size + hidden_size, output_size, bias=True)\n",
    "        self.output2output = nn.Linear(hidden_size +  output_size, output_size, bias=True)        \n",
    "        self.dropout = nn.Dropout(0.2)\n",
    "        self.softmax = nn.LogSoftmax(dim=1)\n",
    "        self.relu = nn.LeakyReLU()\n",
    "        self.sigmoid = nn.LogSigmoid()\n",
    "        self.tanh = nn.Tanh()\n",
    "        \n",
    "        \n",
    "    def forward(self, input, hidden):\n",
    "        combined_input = torch.cat((input, hidden), dim=1)\n",
    "        hidden = self.input2hidden(combined_input)\n",
    "        hidden = self.sigmoid(hidden)\n",
    "        output = self.input2output(combined_input)\n",
    "        output = self.relu(output)\n",
    "        combined_output = torch.cat((hidden, output), dim=1)\n",
    "        output = self. output2output(combined_output)        \n",
    "        output = self.dropout(output)\n",
    "        output = self.softmax(output)\n",
    "        #output = self.sigmoid(output)\n",
    "        \n",
    "        return hidden, output\n",
    "\n",
    "    def initHidden(self):\n",
    "        return torch.zeros(1, self.hidden)"
   ]
  },
  {
   "cell_type": "markdown",
   "metadata": {},
   "source": [
    "## CUDA einrichten\n",
    "Um das Training nicht auf der CPU sondern im schnelleren GPU durchzuführen, haben wir CUDA (Compute Unified Device Architecture) aktiviert. CUDA ist eine von Nvidia entwickelte Programmier-Technik, mit der Programmteile durch den Grafikprozessor (GPU) abgearbeitet werden können. <br>\n",
    "Im folgenden wird geprüft ob CUDA aktiviert werden kann und eine entsprechende Vairable gesetzt. Wenn CUDA Verfügbar ist, werden im weiteren Code die Tensoren und das Model in den GPU geschrieben. <br>\n",
    "Eine Verbesserung, die wir jedoch Zeitlich nicht mehr geschafft haben, ist die Einbindung von Multiprocessing um mehrere Prozesse im GPU zu erzeugen und ein schnelleres Training zu ermöglichen."
   ]
  },
  {
   "cell_type": "code",
   "execution_count": 5,
   "metadata": {},
   "outputs": [
    {
     "name": "stdout",
     "output_type": "stream",
     "text": [
      "CUDA activated\n",
      "GeForce GTX 1080\n"
     ]
    }
   ],
   "source": [
    "torch.cuda.init() # Does nothing if the CUDA state is already initialized.\n",
    "use_cuda = torch.cuda.is_available()\n",
    "if use_cuda:\n",
    "    print('CUDA activated')\n",
    "    print(torch.cuda.get_device_name(torch.cuda.current_device()))\n",
    "    device = torch.device(torch.cuda.current_device())"
   ]
  },
  {
   "cell_type": "markdown",
   "metadata": {},
   "source": [
    "### Loss Funktionen\n",
    "- nn.BCELoss() - Binary Cross Entropy\n",
    "- nn.BCEWithLogitsLoss() - This loss combines a Sigmoid layer and the BCELoss in one single class\n",
    "- nn.NLLLoss() - negative log likelihood loss\n",
    "- nn.CrossEntropyLoss() - combines nn.LogSoftmax() and nn.NLLLoss() in one single class\n",
    "    \n",
    "## Training:\n",
    "\n",
    "Beim Training definieren wir unser Model, in dem wir die Inputgröße, die Anzahl der Hidden Layers und die Größe des Outputs angeben.\n",
    "Durch die Bindung der Loss-Function an einen Parameter lassen sich auch hier bequem andere Loss-Functions testen, um die Auswirkungen dieser auf den Trainingsprozess zu beobachten.<br>\n",
    "Aus Tutorials haben wir erfahren, dass die Methode zero_grad() unbedingt in der Trainingsmethode vorhanden sein muss, um den berechneten Fehler nicht zu addieren. Damit wird sichergestellt, dass der Fehler wieder zurückgesetzt wird und neue Werte annehmen kann.\n",
    "In einer Schleife wird dann der Forward-Pass und die Berechnung des Loss ausgeführt. Nach der Schleife kann der berechnete Fehler zurückgerechnet werden, um die Hyperparameter anzupassen.\n",
    "Ebenfalls haben wir eine kleine Funktion aus dem Pytorch-Tutorial übernommen, um Plot-Daten aus dem Model zu extrahieren. Die berechneten Loss-Werte werden hier als Funktion geplottet.<br>\n",
    "In der übergeordneten train() - Methode nehmen wir uns zufällige Passwörter aus der Liste, um mit diesen unser Netz zu trainieren. Diese ausgewählten Passwörter werden dann, wie eingangs erwähnt, zu Tensoren umgewandelt, damit die entsprechenden Methoden zum Training anwendbar sind. Diese Tensoren werden nun trainPasswords() übergeben, um anschließend den Gesamtfehler zu erhalten. <br>\n",
    "Über den Parameter trainrounds kann bestimmt werden wie viele zufällige Passwörter aus der Liste gezogen werden um damit zu trainieren. Man könnte hier natürlich auch einfach alle Passwörter aus der Liste der Reihe nach durchlaufen lassen, allerdings brauchen 100000 Passworte in unserem Test bereits knapp 4 Stunden. Hier müsste noch die Performance verbessert werden. Daher mussten wir beim Training einen Kompromiss zwischen vernünftigen Ergebnissen und ausreichender Trainingsdauer finden."
   ]
  },
  {
   "cell_type": "code",
   "execution_count": 6,
   "metadata": {},
   "outputs": [],
   "source": [
    "model = PasswordGenerator(len_letters, len_letters, len_letters)\n",
    "if use_cuda:\n",
    "    model = model.cuda()\n",
    "loss_fn = nn.CrossEntropyLoss() #define Loss Function\n",
    "learning_rate = 0.001\n",
    "\n",
    "def trainPasswords(input, target):\n",
    "    target.unsqueeze_(-1) # entfernen der letzten Dimension\n",
    "    hidden = model.initHidden()\n",
    "    model.zero_grad() # zeroes the gradient buffers of all parameters\n",
    "    if use_cuda:\n",
    "        hidden = hidden.cuda()\n",
    "    loss = 0\n",
    "    for i in range(input.size()[0]):\n",
    "        hidden, output = model(input[i], hidden)\n",
    "        l = loss_fn(output, target[i]) # Compute the loss\n",
    "        loss += l\n",
    "    loss.requires_grad_(True) # The autograd package provides automatic differentiation for all operations on Tensors\n",
    "    loss.backward()\n",
    "    for p in model.parameters():\n",
    "        p.data = p.data.add(-learning_rate, p.grad.data)\n",
    "        \n",
    "    return output, loss.item() / input.size(0)\n",
    "\n",
    "def train(trainrounds):\n",
    "    total_loss = 0\n",
    "    plots = []\n",
    "    plot_every = 100\n",
    "    progress = 0\n",
    "    c = 0\n",
    "    \n",
    "    for j in range(0, trainrounds):\n",
    "            password = random.choice(passwords)\n",
    "            #print('picked password:', password)\n",
    "            input = convertPasswortToTensor(password)\n",
    "            target = convertTargetToTensor(password)\n",
    "            output, loss = trainPasswords(input, target)\n",
    "            total_loss += loss\n",
    "            \n",
    "            progress = j / trainrounds * 100\n",
    "            if (c < round(progress) and round(progress) % 5 == 0) or j == 1:\n",
    "                #if use_cuda:\n",
    "                    #print('the current GPU memory occupied by tensors (GB): ', torch.cuda.memory_allocated() / 1024 / 1024)\n",
    "                c = round(progress)\n",
    "                print(round(progress), '% made. Loss: ', loss)\n",
    "            if j % plot_every == 0:\n",
    "                plots.append(total_loss / plot_every)\n",
    "                total_loss = 0\n",
    "\n",
    "    plt.figure()\n",
    "    plt.plot(plots)"
   ]
  },
  {
   "cell_type": "markdown",
   "metadata": {},
   "source": [
    "## Sample Password:\n",
    "\n",
    "In diesem Bereich angekommen, haben wir bereits das Netz vollständig trainiert und können uns Passwörter generieren lassen.\n",
    "Da, wie Anfangs erklärt, die Hidden Layer der vorherigen Sequenz Einfluß nehmen auf die Hidden Layer der aktuellen Sequenz, bedeutet dies gleichzeitig, dass beim ersten Durchgang kein vorheriger Hidden Layer existiert. Daher geben wir den ersten Input vor, um dessen anschließende Hidden Layers an die nächste Sequenz zu übergeben.\n",
    "<br>\n",
    "In der Schleife zur Gewinnung eines Samples wird zunächst das Model initialisiert und durch die Methode topk() wird der Buchstabe mit der höchsten Wahrscheinlichkeit unserem Sample hinzugefügt. <br>\n",
    "Um einen Unterschied durch das training zu zeigen, wird die sample Methode einmal vor und ein paar mal nach dem Training aufgerufen."
   ]
  },
  {
   "cell_type": "code",
   "execution_count": 7,
   "metadata": {},
   "outputs": [
    {
     "name": "stdout",
     "output_type": "stream",
     "text": [
      "Sampled Password:  hcWWjjWjjjWWW\n",
      "0 % made. Loss:  4.589341799418132\n",
      "5 % made. Loss:  3.8004014756944446\n",
      "10 % made. Loss:  3.4839646021525064\n",
      "15 % made. Loss:  3.3218360900878907\n",
      "20 % made. Loss:  3.3301265716552733\n",
      "25 % made. Loss:  3.0973897661481584\n",
      "30 % made. Loss:  3.8945229848225913\n",
      "35 % made. Loss:  2.9916783650716146\n",
      "40 % made. Loss:  3.472919209798177\n",
      "45 % made. Loss:  3.537563959757487\n",
      "50 % made. Loss:  2.84042845831977\n",
      "55 % made. Loss:  3.2649238109588623\n",
      "60 % made. Loss:  2.526250203450521\n",
      "65 % made. Loss:  3.5015176137288413\n",
      "70 % made. Loss:  4.209789594014485\n",
      "75 % made. Loss:  3.4841396808624268\n",
      "80 % made. Loss:  2.5727745056152345\n",
      "85 % made. Loss:  3.637464761734009\n",
      "90 % made. Loss:  4.212200437273298\n",
      "95 % made. Loss:  3.40599365234375\n",
      "100 % made. Loss:  4.248691082000732\n",
      "Sampled Password 01:  hSaaaaaaaaaaa\n",
      "Sampled Password 02:  hSaaaaaaaaaaa\n",
      "Sampled Password 03:  hSaaaaaaaaaaa\n",
      "Sampled Password 04:  hSaaaaaaaaaaa\n",
      "Sampled Password 05:  hSaaaaaaaaaaa\n",
      "Sampled Password 06:  hSaaaaaaaaaaa\n",
      "Sampled Password 07:  hSaaaaaaaaaaa\n",
      "Sampled Password 08:  hSaaaaaaaaaaa\n",
      "Sampled Password 09:  hSaaaaaaaaaaa\n",
      "Sampled Password 10:  hSaaaaaaaaaaa\n"
     ]
    },
    {
     "data": {
      "image/png": "[encoded data removed]",
      "text/plain": [
       "<Figure size 432x288 with 1 Axes>"
      ]
     },
     "metadata": {
      "needs_background": "light"
     },
     "output_type": "display_data"
    }
   ],
   "source": [
    "max_chars = 12 # max 10 chars for password\n",
    "\n",
    "def sample(start_letter='a'):\n",
    "    with torch.no_grad():  # no need to track history in sampling\n",
    "        input = convertPasswortToTensor(start_letter)\n",
    "        hidden = model.initHidden()\n",
    "        if use_cuda:\n",
    "            hidden = hidden.cuda()\n",
    "\n",
    "        output_name = start_letter\n",
    "\n",
    "        for i in range(max_chars):\n",
    "            output, hidden = model(input[0], hidden)\n",
    "            topv, topi = output.topk(1)\n",
    "            topi = topi[0][0]\n",
    "            if topi == len_letters - 1: \n",
    "                break\n",
    "            else:\n",
    "                letter = letters[topi]\n",
    "                output_name += letter\n",
    "            input = convertPasswortToTensor(letter)\n",
    "\n",
    "        return output_name\n",
    "#before train\n",
    "random_start_char = random.choice(letters)\n",
    "print('Sampled Password: ', sample(random_start_char))\n",
    "\n",
    "train(100000)\n",
    "\n",
    "#after train\n",
    "print('Sampled Password 01: ', sample(random_start_char))\n",
    "print('Sampled Password 02: ', sample(random_start_char))\n",
    "print('Sampled Password 03: ', sample(random_start_char))\n",
    "print('Sampled Password 04: ', sample(random_start_char))\n",
    "print('Sampled Password 05: ', sample(random_start_char))\n",
    "print('Sampled Password 06: ', sample(random_start_char))\n",
    "print('Sampled Password 07: ', sample(random_start_char))\n",
    "print('Sampled Password 08: ', sample(random_start_char))\n",
    "print('Sampled Password 09: ', sample(random_start_char))\n",
    "print('Sampled Password 10: ', sample(random_start_char))"
   ]
  },
  {
   "cell_type": "markdown",
   "metadata": {},
   "source": [
    "## Zusammenfassung\n",
    "Abschließend lässt sich sagen, dass es relativ einfach ist mit einiger Einarbeitung einen Passwort Generator mit Pytorch zu schreiben. Verbesserungswürdig ist an dieser Stelle allerdings die Performance, welche mit Multiprocessing erhöt werden könnte. <br>\n",
    "Unsere Tests ergaben, dass wenn Lernrate und Dropout zu hoch oder niedrig sind, die Passwörter nur auf den ersten paar Zeichen einem guten Passwort entsprechen. Außerdem scheinen eine Droprate von 0.2 und eine Lernrate von 0.001 die besten Ergebnisse zu liefern. Des weiteren können wir sagen, dass unter 10000 Trainingsdurchgänge keine sinnvollen Ergebnisse produziert werden können. <br>\n",
    "Im tutorial wurde im Netz nur eine Softmax Aktivierungsfunktion verwendet. Um das Netz ein wenig komplexer zu machen, haben wir auf die Hiddens eine LogSigmoid Funktion und auf den kombinierten Input eine LeakyReLU Funktion. Dies lieferte wesentlich bessere Ergebnisse als eine einzige Aktivierungsfunktion."
   ]
  },
  {
   "cell_type": "markdown",
   "metadata": {},
   "source": [
    "## Quellen\n",
    "\n",
    "[1] https://pytorch.org/tutorials/intermediate/char_rnn_generation_tutorial.html <br>\n",
    "[2] https://towardsdatascience.com/learn-how-recurrent-neural-networks-work-84e975feaaf7 <br>\n",
    "[3] https://www.scrapmaker.com/data/wordlists/dictionaries/rockyou.txt <br>\n",
    "[4] https://www.scrapmaker.com/download/data/wordlists/passwords/thelist.txt <br>\n",
    "[5] https://arxiv.org/pdf/1308.0850.pdf <br>"
   ]
  }
 ],
 "metadata": {
  "kernelspec": {
   "display_name": "Python 3",
   "language": "python",
   "name": "python3"
  },
  "language_info": {
   "codemirror_mode": {
    "name": "ipython",
    "version": 3
   },
   "file_extension": ".py",
   "mimetype": "text/x-python",
   "name": "python",
   "nbconvert_exporter": "python",
   "pygments_lexer": "ipython3",
   "version": "3.7.3"
  }
 },
 "nbformat": 4,
 "nbformat_minor": 2
}
